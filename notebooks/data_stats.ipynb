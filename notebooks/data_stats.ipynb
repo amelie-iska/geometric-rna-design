{
 "cells": [
  {
   "attachments": {},
   "cell_type": "markdown",
   "metadata": {},
   "source": [
    "# Dataset Statistics\n",
    "\n",
    "This notebook plots statistics for our RNA inverse design dataset created using [RNASolo](https://rnasolo.cs.put.poznan.pl).\n",
    "We visualise the diversity of our dataset in terms of sequence length, number of structures per sequence, as well as structural variations among conformations per sequence."
   ]
  },
  {
   "cell_type": "code",
   "execution_count": null,
   "metadata": {},
   "outputs": [],
   "source": [
    "%load_ext autoreload\n",
    "%autoreload 2\n",
    "\n",
    "import sys\n",
    "sys.path.append('../')\n",
    "\n",
    "import dotenv\n",
    "dotenv.load_dotenv(\"../.env\")"
   ]
  },
  {
   "cell_type": "code",
   "execution_count": null,
   "metadata": {},
   "outputs": [],
   "source": [
    "!echo $DATA_PATH"
   ]
  },
  {
   "cell_type": "code",
   "execution_count": null,
   "metadata": {},
   "outputs": [],
   "source": [
    "import os\n",
    "import ast\n",
    "import numpy as np\n",
    "import pandas as pd\n",
    "from tqdm import tqdm\n",
    "import torch\n",
    "\n",
    "import matplotlib.pyplot as plt\n",
    "from mpl_toolkits.axes_grid1.inset_locator import InsetPosition, mark_inset\n",
    "import seaborn as sns"
   ]
  },
  {
   "cell_type": "code",
   "execution_count": null,
   "metadata": {},
   "outputs": [],
   "source": [
    "DATA_PATH = os.environ.get(\"DATA_PATH\")\n",
    "seq_to_data = torch.load(os.path.join(DATA_PATH, \"processed.pt\"))\n",
    "data_list = list(seq_to_data.values())\n",
    "\n",
    "df = pd.read_csv(os.path.join(DATA_PATH, \"processed_df.csv\"))\n",
    "# convert strings to lists\n",
    "# df[\"id_list\"] = df[\"id_list\"].apply(ast.literal_eval)\n",
    "df[\"rfam_list\"] = df[\"rfam_list\"].apply(ast.literal_eval)\n",
    "# df[\"eq_class_list\"] = df[\"eq_class_list\"].apply(ast.literal_eval)\n",
    "df[\"type_list\"] = df[\"type_list\"].apply(ast.literal_eval)\n",
    "# create new columns for the most common value in each list\n",
    "df[\"type\"] = df[\"type_list\"].apply(lambda x: max(x, key=x.count))\n",
    "df[\"rfam\"] = df[\"rfam_list\"].apply(lambda x: max(x, key=x.count))\n",
    "df"
   ]
  },
  {
   "cell_type": "code",
   "execution_count": null,
   "metadata": {},
   "outputs": [],
   "source": [
    "# Number of unique sequences\n",
    "len(df)"
   ]
  },
  {
   "cell_type": "code",
   "execution_count": null,
   "metadata": {},
   "outputs": [],
   "source": [
    "# Total number of structures\n",
    "df[\"num_structures\"].sum()"
   ]
  },
  {
   "cell_type": "code",
   "execution_count": null,
   "metadata": {},
   "outputs": [],
   "source": [
    "# Types of structures\n",
    "df[\"type\"].value_counts()"
   ]
  },
  {
   "cell_type": "code",
   "execution_count": null,
   "metadata": {},
   "outputs": [],
   "source": [
    "# Number of unique rfam families\n",
    "for family, count in zip(df[\"rfam\"].unique(), df[\"rfam\"].value_counts()):\n",
    "    print(f\"{family}: {count}\")"
   ]
  },
  {
   "cell_type": "code",
   "execution_count": null,
   "metadata": {},
   "outputs": [],
   "source": [
    "# Distribution of sequence length\n",
    "\n",
    "seq_lens = df[\"length\"].values\n",
    "\n",
    "print(f\"Distribution: {np.mean(seq_lens):.2f} +- {np.std(seq_lens):.2f}\")\n",
    "print(f\"Max: {np.max(seq_lens)}, Min: {np.min(seq_lens)}\")"
   ]
  },
  {
   "cell_type": "code",
   "execution_count": null,
   "metadata": {},
   "outputs": [],
   "source": [
    "fig, ax1 = plt.subplots()\n",
    "\n",
    "# Plot a histogram\n",
    "ax1.hist(seq_lens, bins=100)\n",
    "\n",
    "# Add labels and title\n",
    "ax1.set_xlabel('Sequence length')\n",
    "ax1.set_ylabel('Frequency')\n",
    "ax1.set_title( \n",
    "    r\"$\\bf{\" + \"Histogram \\ of \\ sequence \\ lengths\" + \"}$\" + f\"\\nDistribution: {np.mean(seq_lens):.1f} ± {np.std(seq_lens):.1f}, Max: {np.max(seq_lens)}, Min: {np.min(seq_lens)}\"\n",
    ")\n",
    "\n",
    "# Create a set of inset Axes\n",
    "ax2 = plt.axes([0,0,1,1])\n",
    "# Manually set the position and relative size of the inset axes within ax1\n",
    "ip = InsetPosition(ax1, [0.4,0.4,0.5,0.5])\n",
    "ax2.set_axes_locator(ip)\n",
    "# Mark the region corresponding to the inset axes on ax1 \n",
    "# and draw lines in grey linking the two axes.\n",
    "mark_inset(ax1, ax2, loc1=2, loc2=4, fc=\"none\", ec='0.6')\n",
    "\n",
    "# Plot second histogram\n",
    "ax2.hist(seq_lens, bins=1000)\n",
    "ax2.set_xlim([0,200])\n",
    "\n",
    "# Some ad hoc tweaks.\n",
    "# ax2.set_xticklabels(ax2.get_xticks(), backgroundcolor='w')\n",
    "# ax2.tick_params(axis='x', which='major', pad=8)\n",
    "\n",
    "# Display the plot\n",
    "# plt.savefig('hist_seq_len.pdf', dpi=300)\n",
    "plt.show()"
   ]
  },
  {
   "cell_type": "code",
   "execution_count": null,
   "metadata": {},
   "outputs": [],
   "source": [
    "# Distribution of number of structures per unique sequence\n",
    "\n",
    "num_struct_per_seq = df[\"num_structures\"].values\n",
    "print(f\"Distribution: {np.mean(num_struct_per_seq)} +- {np.std(num_struct_per_seq)}\")\n",
    "print(f\"Max: {np.max(num_struct_per_seq)}, Min: {np.min(num_struct_per_seq)}\")"
   ]
  },
  {
   "cell_type": "code",
   "execution_count": null,
   "metadata": {},
   "outputs": [],
   "source": [
    "fig, ax1 = plt.subplots()\n",
    "\n",
    "# Plot a histogram\n",
    "ax1.hist(num_struct_per_seq, bins=267)\n",
    "\n",
    "# Add labels and title\n",
    "ax1.set_xlabel('Number of structures per sequence')\n",
    "ax1.set_ylabel('Frequency')\n",
    "ax1.set_title( \n",
    "    r\"$\\bf{\" + \"Histogram \\ of \\ no. \\ of \\ structures \\ per \\ unique \\ sequence\" + \"}$\" + f\"\\nDistribution: {np.mean(num_struct_per_seq):.2f} ± {np.std(num_struct_per_seq):.2f}, Max: {np.max(num_struct_per_seq)}, Min: {np.min(num_struct_per_seq)}\"\n",
    ")\n",
    "ax1.set_xlim([0,50])\n",
    "\n",
    "# Create a set of inset Axes\n",
    "ax2 = plt.axes([0,0,1,1])\n",
    "# Manually set the position and relative size of the inset axes within ax1\n",
    "ip = InsetPosition(ax1, [0.4,0.4,0.5,0.5])\n",
    "ax2.set_axes_locator(ip)\n",
    "# Mark the region corresponding to the inset axes on ax1 \n",
    "# and draw lines in grey linking the two axes.\n",
    "mark_inset(ax1, ax2, loc1=2, loc2=4, fc=\"none\", ec='0.6')\n",
    "\n",
    "# Plot second histogram\n",
    "ax2.hist(num_struct_per_seq, bins=267)\n",
    "ax2.set_xlim([2,20])\n",
    "ax2.set_ylim([0,800])\n",
    "ax2.set_title(\"Sequences with >1 structure\")\n",
    "\n",
    "# Some ad hoc tweaks.\n",
    "# ax2.set_xticklabels(ax2.get_xticks(), backgroundcolor='w')\n",
    "# ax2.tick_params(axis='x', which='major', pad=8)\n",
    "\n",
    "# Display the plot\n",
    "# plt.savefig('hist_num_struct_per_seq.pdf', dpi=300)\n",
    "plt.show()"
   ]
  },
  {
   "cell_type": "code",
   "execution_count": null,
   "metadata": {},
   "outputs": [],
   "source": [
    "# Raw values of number of some structures per sequence distribution\n",
    "bin, count = np.unique(num_struct_per_seq, return_counts=True)\n",
    "for i, pair in enumerate(zip(bin, count)):\n",
    "    if i < 10 or i > len(bin) - 4:\n",
    "        print(f\"{pair[0]} structures for that sequence -> {pair[1]} samples\")\n",
    "    elif i == len(bin) // 2:\n",
    "        print(\"...\")"
   ]
  },
  {
   "cell_type": "code",
   "execution_count": null,
   "metadata": {},
   "outputs": [],
   "source": [
    "# Frequency of each base in the sequences\n",
    "# Pyrimidine (C, U)\n",
    "# Purine (A, G)\n",
    "\n",
    "base_counts = {'A': 0, 'G': 0, 'C': 0, 'U': 0, 'other': 0}\n",
    "for data in tqdm(data_list):\n",
    "    for base in data['sequence']:\n",
    "        if base in base_counts:\n",
    "            base_counts[base] += 1\n",
    "        else:\n",
    "            base_counts['other'] += 1\n",
    "\n",
    "for base in base_counts:\n",
    "    print(f\"{base}: {base_counts[base]}\")"
   ]
  },
  {
   "cell_type": "code",
   "execution_count": null,
   "metadata": {},
   "outputs": [],
   "source": [
    "# Distribution of average RMSD per sequence\n",
    "# Note: Omit avg. RMSD = 0, which are sequences with a single structure\n",
    "\n",
    "rmsd_per_seq = [x for x in df[\"mean_rmsd\"].values if x > 0.0]\n",
    "print(f\"Distribution: {np.mean(rmsd_per_seq)} +- {np.std(rmsd_per_seq)}\")\n",
    "print(f\"Max: {np.max(rmsd_per_seq)}, Min: {np.min(rmsd_per_seq)}\")\n",
    "\n",
    "fig, ax1 = plt.subplots()\n",
    "\n",
    "# Plot a histogram\n",
    "ax1.hist(rmsd_per_seq, bins=50)\n",
    "\n",
    "# Add labels and title\n",
    "ax1.set_xlabel('Avg. pairwise RMSD among structures per sequence (Å)')\n",
    "ax1.set_ylabel('Frequency')\n",
    "# plt.title('Histogram of average RMSD per sequence')\n",
    "ax1.set_title( \n",
    "    r\"$\\bf{\" + \"Histogram \\ of \\ avg. \\ pairwise \\ RMSD \\ per \\ sequence\" + \"}$\" + f\"\\nDistribution: {np.mean(rmsd_per_seq):.2f}Å ± {np.std(rmsd_per_seq):.2f}, Max: {np.max(rmsd_per_seq):.2f}Å, Min: {np.min(rmsd_per_seq):.2f}Å\"\n",
    ")\n",
    "\n",
    "# Create a set of inset Axes\n",
    "ax2 = plt.axes([0,0,1,1])\n",
    "# Manually set the position and relative size of the inset axes within ax1\n",
    "ip = InsetPosition(ax1, [0.4,0.4,0.5,0.5])\n",
    "ax2.set_axes_locator(ip)\n",
    "# Mark the region corresponding to the inset axes on ax1 \n",
    "# and draw lines in grey linking the two axes.\n",
    "mark_inset(ax1, ax2, loc1=2, loc2=4, fc=\"none\", ec='0.6')\n",
    "\n",
    "# Plot second histogram\n",
    "ax2.hist(rmsd_per_seq, bins=400)\n",
    "ax2.set_xlim([0,5])\n",
    "# ax2.set_ylim([0,1000])\n",
    "\n",
    "# Display the plot\n",
    "# plt.savefig('hist_rmsd_per_sequence.pdf', dpi=300)\n",
    "plt.show()"
   ]
  },
  {
   "cell_type": "code",
   "execution_count": null,
   "metadata": {},
   "outputs": [],
   "source": [
    "# df = pd.DataFrame({'Sequence length': seq_len, 'Average RMSD': rmsd_per_seq})\n",
    "# create a bivariate distribution plot using seaborn\n",
    "ax = sns.jointplot(\n",
    "    data=df.loc[(df[\"mean_rmsd\"] > 0.0) & (df[\"mean_rmsd\"] < 7.5)], \n",
    "    x='length', \n",
    "    y='mean_rmsd', \n",
    "    kind='hist', \n",
    "    log_scale=(True, False), \n",
    "    marginal_kws=dict(element='step', fill=True)\n",
    ")\n",
    "\n",
    "# ax.set_ylim([0,5])\n",
    "\n",
    "# Add labels and title\n",
    "plt.xlabel('Sequence length (log scale)')\n",
    "plt.ylabel('Avg. pairwise RMSD among structures (Å)')\n",
    "# plt.title( \n",
    "#     \"Bivariate Distribution Plot for sequence length vs. avg. pairwise RMSD\"\n",
    "#     # r\"$\\bf{\" + \"Histogram \\ of \\ avg. \\ pairwise \\ RMSD \\ per \\ sequence\" + \"}$\" + f\"\\nDistribution: {np.mean(rmsd_per_seq):.2f} ± {np.std(rmsd_per_seq):.2f}, Max: {np.max(rmsd_per_seq):.2f}, Min: {np.min(rmsd_per_seq):.2f}\"\n",
    "# )\n",
    "\n",
    "# Display the plot\n",
    "# plt.savefig('bivariate_seq_vs_rmsd.pdf', dpi=300)\n",
    "plt.show()\n"
   ]
  }
 ],
 "metadata": {
  "kernelspec": {
   "display_name": "Python 3",
   "language": "python",
   "name": "python3"
  },
  "language_info": {
   "codemirror_mode": {
    "name": "ipython",
    "version": 3
   },
   "file_extension": ".py",
   "mimetype": "text/x-python",
   "name": "python",
   "nbconvert_exporter": "python",
   "pygments_lexer": "ipython3",
   "version": "3.10.13"
  },
  "orig_nbformat": 4
 },
 "nbformat": 4,
 "nbformat_minor": 2
}
